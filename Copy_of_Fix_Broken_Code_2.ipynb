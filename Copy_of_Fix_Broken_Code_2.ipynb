{
  "nbformat": 4,
  "nbformat_minor": 0,
  "metadata": {
    "colab": {
      "provenance": [],
      "include_colab_link": true
    },
    "kernelspec": {
      "name": "python3",
      "display_name": "Python 3"
    },
    "language_info": {
      "name": "python"
    }
  },
  "cells": [
    {
      "cell_type": "markdown",
      "metadata": {
        "id": "view-in-github",
        "colab_type": "text"
      },
      "source": [
        "<a href=\"https://colab.research.google.com/github/Ryan456712/Python-Basics/blob/main/Copy_of_Fix_Broken_Code_2.ipynb\" target=\"_parent\"><img src=\"https://colab.research.google.com/assets/colab-badge.svg\" alt=\"Open In Colab\"/></a>"
      ]
    },
    {
      "cell_type": "markdown",
      "source": [
        "# FIX BROKEN CODE EX -2"
      ],
      "metadata": {
        "id": "08sjzD0crTpa"
      }
    },
    {
      "cell_type": "markdown",
      "source": [
        "What's wrong with this code ? : <answer here> 1st line: only one bracket, 2nd line there was two =, 3rd line no brackets ans str"
      ],
      "metadata": {
        "id": "2m3U8JXZrtuh"
      }
    },
    {
      "cell_type": "code",
      "execution_count": null,
      "metadata": {
        "id": "iVaVnQ9Jp3jO",
        "outputId": "e7b551fc-5d36-4873-9f53-d4c08d3479d4",
        "colab": {
          "base_uri": "https://localhost:8080/"
        }
      },
      "outputs": [
        {
          "output_type": "stream",
          "name": "stdout",
          "text": [
            "The area is: 15\n"
          ]
        }
      ],
      "source": [
        "def calculate_area (width, height):\n",
        "    area = width * height;\n",
        "    return \"The area is: \" + str(area)\n",
        "\n",
        "print(calculate_area(5, 3))\n",
        "# should output 15"
      ]
    },
    {
      "cell_type": "markdown",
      "source": [
        "What's wrong with this code ? : <answer here>"
      ],
      "metadata": {
        "id": "6hVQsnmzr3i8"
      }
    },
    {
      "cell_type": "code",
      "source": [
        "def factorial(n):\n",
        "    if n == 1:\n",
        "        return 1\n",
        "    else:\n",
        "        return n * factorial(n - 1)\n",
        "        print(\"Calculating factorial...\")\n",
        "\n",
        "print(factorial(5))\n",
        "# should output 120"
      ],
      "metadata": {
        "id": "lkxA7zApr4c0",
        "outputId": "63166c69-11d9-4c17-b093-a94eb6c5c07a",
        "colab": {
          "base_uri": "https://localhost:8080/"
        }
      },
      "execution_count": null,
      "outputs": [
        {
          "output_type": "stream",
          "name": "stdout",
          "text": [
            "120\n"
          ]
        }
      ]
    },
    {
      "cell_type": "markdown",
      "source": [
        "What's wrong with this code ? : <answer here>3rd line wrong brackets around i"
      ],
      "metadata": {
        "id": "7vL1tBsqsJPn"
      }
    },
    {
      "cell_type": "code",
      "source": [
        "items = [\"apple\", \"banana\", \"cherry\"]\n",
        "for i in range(len(items)):\n",
        "    print(items[i])\n",
        "# should output :\n",
        "  # apple\n",
        "  # banana\n",
        "  # cherry"
      ],
      "metadata": {
        "id": "3GejQUaAsOtV",
        "outputId": "db1f5bdf-d2b6-48d8-eb3e-8c97d2a4d171",
        "colab": {
          "base_uri": "https://localhost:8080/"
        }
      },
      "execution_count": null,
      "outputs": [
        {
          "output_type": "stream",
          "name": "stdout",
          "text": [
            "apple\n",
            "banana\n",
            "cherry\n"
          ]
        }
      ]
    },
    {
      "cell_type": "markdown",
      "source": [
        "What's wrong with this code ? : <answer here> 2nd line no brackets"
      ],
      "metadata": {
        "id": "2hp9rlqjst6F"
      }
    },
    {
      "cell_type": "code",
      "source": [
        "name = \"Alice\"\n",
        "age = \"25\"\n",
        "print(\"Name: \" + name + \", Age: \" + age)\n",
        "# should output : Name: Alice, Age: 25"
      ],
      "metadata": {
        "id": "CBSFawIksvpu",
        "outputId": "b5a9d87a-658d-4eaa-d644-012444b9273d",
        "colab": {
          "base_uri": "https://localhost:8080/"
        }
      },
      "execution_count": null,
      "outputs": [
        {
          "output_type": "stream",
          "name": "stdout",
          "text": [
            "Name: Alice, Age: 25\n"
          ]
        }
      ]
    },
    {
      "cell_type": "markdown",
      "source": [
        "What's wrong with this code ? : <answer here>3rd line rage not ranges and data_lists should be non plural. line 7 and 8 appen to append, 3rd line : at the end, got rid of +1 and -1 and fixed spelling mistakes"
      ],
      "metadata": {
        "id": "1cS9jPX7s5tV"
      }
    },
    {
      "cell_type": "code",
      "source": [
        "\n",
        "# This function has multiple issues but is easier to debug.\n",
        "def process_data(data_list):\n",
        "    result = []\n",
        "    for i in range(len(data_list)):\n",
        "        if data_list[i] % 2 == 0:\n",
        "            result.append(\"Even: \" + str(data_list[i]))\n",
        "        else:\n",
        "            result.append(\"Odd: \" + str(data_list[i]))\n",
        "\n",
        "    return result\n",
        "\n",
        "data = [1, 2, 3, 4, 5]\n",
        "print(process_data(data))\n",
        "\n",
        "# Expected Output (if errors are fixed):\n",
        "# ['Odd: 1', 'Even: 2', 'Odd: 3', 'Even: 4', 'Odd: 5']\n"
      ],
      "metadata": {
        "id": "1euekMk_s-Nj",
        "outputId": "de3bb8f1-96a4-457d-e113-420c0a8335c6",
        "colab": {
          "base_uri": "https://localhost:8080/"
        }
      },
      "execution_count": null,
      "outputs": [
        {
          "output_type": "stream",
          "name": "stdout",
          "text": [
            "['Odd: 1', 'Even: 2', 'Odd: 3', 'Even: 4', 'Odd: 5']\n"
          ]
        }
      ]
    },
    {
      "cell_type": "markdown",
      "source": [
        "What's wrong with this code ? : <answer here> 2nd line, deleted =, 4th line added \"\""
      ],
      "metadata": {
        "id": "Mp4Tja09xZBY"
      }
    },
    {
      "cell_type": "code",
      "source": [
        "def greet(name):\n",
        "    return \" Hello, \" + name\n",
        "\n",
        "print(greet(\"John\"))\n",
        "# should output : Hello, John"
      ],
      "metadata": {
        "id": "QDa1Zac_xdVb",
        "outputId": "9cbd0410-bf39-4c30-a403-8cc6d543af38",
        "colab": {
          "base_uri": "https://localhost:8080/"
        }
      },
      "execution_count": null,
      "outputs": [
        {
          "output_type": "stream",
          "name": "stdout",
          "text": [
            " Hello, John\n"
          ]
        }
      ]
    },
    {
      "cell_type": "markdown",
      "source": [
        "What's wrong with this code ? : <answer here>"
      ],
      "metadata": {
        "id": "cXqL2Fb6yMxk"
      }
    },
    {
      "cell_type": "code",
      "source": [
        "# This function processes customer orders and calculates discounts\n",
        "def process_orders(orders):\n",
        "    total_price = 0\n",
        "    for order in orders:\n",
        "        if \"price\" in order and \"quantity\" in order:\n",
        "            total_price += order[\"price\"] * order[\"quantity\"]\n",
        "        else:\n",
        "            print(\"Invalid order: \" + str(order))\n",
        "\n",
        "    discount = 0.1 if total_price > 100 else 0.05\n",
        "    final_price = total_price - total_price * discount\n",
        "    return \"Total after discount: \" + str(final_price)\n",
        "\n",
        "orders = [\n",
        "    {\"item\": \"Laptop\", \"price\": 900, \"quantity\": 1},\n",
        "    {\"item\": \"Mouse\", \"price\": 25, \"quantity\": 2},\n",
        "    {\"item\": \"Keyboard\", \"price\": 50, \"quantity\": 1},\n",
        "    {\"item\": \"Monitor\", \"price\": 30, \"quantity\": 1}\n",
        "]\n",
        "\n",
        "print(process_orders(orders))\n",
        "\n",
        "# Expected Output (if errors are fixed):\n",
        "# 'Total after discount: 927.0'\n"
      ],
      "metadata": {
        "id": "xo_k2aiWyPD_",
        "outputId": "2a2b8066-cb1a-4c9d-cd50-479ecdc55b32",
        "colab": {
          "base_uri": "https://localhost:8080/"
        }
      },
      "execution_count": 17,
      "outputs": [
        {
          "output_type": "stream",
          "name": "stdout",
          "text": [
            "Total after discount: 927.0\n"
          ]
        }
      ]
    }
  ]
}