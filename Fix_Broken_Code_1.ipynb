{
  "nbformat": 4,
  "nbformat_minor": 0,
  "metadata": {
    "colab": {
      "provenance": [],
      "include_colab_link": true
    },
    "kernelspec": {
      "name": "python3",
      "display_name": "Python 3"
    },
    "language_info": {
      "name": "python"
    }
  },
  "cells": [
    {
      "cell_type": "markdown",
      "metadata": {
        "id": "view-in-github",
        "colab_type": "text"
      },
      "source": [
        "<a href=\"https://colab.research.google.com/github/Ryan456712/Python-Basics/blob/main/Fix_Broken_Code_1.ipynb\" target=\"_parent\"><img src=\"https://colab.research.google.com/assets/colab-badge.svg\" alt=\"Open In Colab\"/></a>"
      ]
    },
    {
      "cell_type": "markdown",
      "source": [
        "# FIX BROKEN CODE 1"
      ],
      "metadata": {
        "id": "PC4Ip85Jr7yA"
      }
    },
    {
      "cell_type": "code",
      "execution_count": 10,
      "metadata": {
        "id": "D7ZYNuM0q67R",
        "outputId": "e4c44f6b-face-4bad-93a7-0b61d59caab5",
        "colab": {
          "base_uri": "https://localhost:8080/"
        }
      },
      "outputs": [
        {
          "output_type": "stream",
          "name": "stdout",
          "text": [
            "Hello, world\n"
          ]
        }
      ],
      "source": [
        "print(\"Hello, world!\")"
      ]
    },
    {
      "cell_type": "markdown",
      "source": [
        "What was the error ?\n",
        "Answer : missed \" at end of hello, world!"
      ],
      "metadata": {
        "id": "XKLet5FEtkXQ"
      }
    },
    {
      "cell_type": "code",
      "source": [
        "my_number = 10\n",
        "print(my_number)"
      ],
      "metadata": {
        "id": "M-s4qDg2sFWz",
        "outputId": "ae45a401-9f22-403b-cf1d-725d58b93240",
        "colab": {
          "base_uri": "https://localhost:8080/"
        }
      },
      "execution_count": 35,
      "outputs": [
        {
          "output_type": "stream",
          "name": "stdout",
          "text": [
            "10\n"
          ]
        }
      ]
    },
    {
      "cell_type": "markdown",
      "source": [
        "What was the error ?\n",
        "Answer : There was 2 mm in my_number inside print"
      ],
      "metadata": {
        "id": "C0NP6Jd7tpZp"
      }
    },
    {
      "cell_type": "code",
      "source": [
        "def greet():\n",
        "    name = input(\"Enter your name: \")\n",
        "    print(\"hello, \" + name)"
      ],
      "metadata": {
        "id": "iQxoGQ1SsUEA"
      },
      "execution_count": 68,
      "outputs": []
    },
    {
      "cell_type": "markdown",
      "source": [
        "What was the error ?\n",
        "Answer : syntax error on 2nd row"
      ],
      "metadata": {
        "id": "Ap3NxpT5trax"
      }
    },
    {
      "cell_type": "code",
      "source": [
        "age = int(input(\"Enter your age: \"))\n",
        "print(\"Next year, you will be\", age + 1)"
      ],
      "metadata": {
        "id": "D0fxS0w4sfz2",
        "outputId": "b8c87a68-39d9-4fa0-c1a6-eee5dbdae652",
        "colab": {
          "base_uri": "https://localhost:8080/"
        }
      },
      "execution_count": 66,
      "outputs": [
        {
          "output_type": "stream",
          "name": "stdout",
          "text": [
            "Enter your age: 45\n",
            "Next year, you will be 46\n"
          ]
        }
      ]
    },
    {
      "cell_type": "markdown",
      "source": [
        "What was the error ?\n",
        "Answer : added int before input and removed brackets around age + 1"
      ],
      "metadata": {
        "id": "B7dY9waHtspn"
      }
    },
    {
      "cell_type": "code",
      "source": [
        "def add_numbers(a, b):\n",
        "    return a + b\n",
        "\n",
        "print(add_numbers(5, 3))"
      ],
      "metadata": {
        "id": "cr4Di-Moshxa",
        "outputId": "1867eabc-3e3e-4123-ed3e-00c4d45fa2e4",
        "colab": {
          "base_uri": "https://localhost:8080/"
        }
      },
      "execution_count": 79,
      "outputs": [
        {
          "output_type": "stream",
          "name": "stdout",
          "text": [
            "8\n"
          ]
        }
      ]
    },
    {
      "cell_type": "markdown",
      "source": [
        "What was the error ?\n",
        "Answer : i removed the \" from return a + b and (5,3) and coreccted spelling mistake from the print line"
      ],
      "metadata": {
        "id": "Voaq60z9ttJW"
      }
    },
    {
      "cell_type": "code",
      "source": [
        "def multiply(x, y):\n",
        "    return x * y\n",
        "\n",
        "print(multiply(4, 2))"
      ],
      "metadata": {
        "id": "v_sucHpespLK",
        "outputId": "6fbc8832-3cf1-484e-b52f-a0e3866b2de8",
        "colab": {
          "base_uri": "https://localhost:8080/"
        }
      },
      "execution_count": 91,
      "outputs": [
        {
          "output_type": "stream",
          "name": "stdout",
          "text": [
            "8\n"
          ]
        }
      ]
    },
    {
      "cell_type": "markdown",
      "source": [
        "What was the error ?\n",
        "Answer : i changed x and y to lower case and also put a * between them"
      ],
      "metadata": {
        "id": "s-UtRPw3tt_j"
      }
    },
    {
      "cell_type": "code",
      "source": [
        "numbers = [1, 2, 3, 4, 5]\n",
        "for i in numbers:\n",
        "    print(i)"
      ],
      "metadata": {
        "id": "m6f6EW7Ts3zQ",
        "outputId": "5d04a120-035d-4209-a719-e297350dfdba",
        "colab": {
          "base_uri": "https://localhost:8080/"
        }
      },
      "execution_count": 94,
      "outputs": [
        {
          "output_type": "stream",
          "name": "stdout",
          "text": [
            "1\n",
            "2\n",
            "3\n",
            "4\n",
            "5\n"
          ]
        }
      ]
    },
    {
      "cell_type": "markdown",
      "source": [
        "What was the error ?\n",
        "Answer : put : on the end of row 2 and put () aound i"
      ],
      "metadata": {
        "id": "tRA2Cwpbtufn"
      }
    },
    {
      "cell_type": "code",
      "source": [
        "student1 = {\"name\": \"Alex\", \"age\": 21}\n",
        "print(student1[\"name\"])"
      ],
      "metadata": {
        "id": "x84ylEg4s-GH",
        "outputId": "64b0ec81-dc2c-4864-a54c-d4f26c2d4fbf",
        "colab": {
          "base_uri": "https://localhost:8080/"
        }
      },
      "execution_count": 98,
      "outputs": [
        {
          "output_type": "stream",
          "name": "stdout",
          "text": [
            "Alex\n"
          ]
        }
      ]
    },
    {
      "cell_type": "markdown",
      "source": [
        "What was the error ?\n",
        "Answer : renames student to student1, speeling error in print, \" \" around name in print line"
      ],
      "metadata": {
        "id": "K0Ofjlvbtu6s"
      }
    },
    {
      "cell_type": "code",
      "source": [
        "def check_even(n):\n",
        "    if n % 2 == 0:\n",
        "        print(\"Even\")\n",
        "    else:\n",
        "        print(\"Odd\")\n",
        "\n",
        "print(check_even(4))\n"
      ],
      "metadata": {
        "id": "XmSSi4yhtH5M",
        "outputId": "49b6ef59-b252-4e72-df11-d2ea356f3108",
        "colab": {
          "base_uri": "https://localhost:8080/"
        }
      },
      "execution_count": 101,
      "outputs": [
        {
          "output_type": "stream",
          "name": "stdout",
          "text": [
            "Even\n",
            "None\n"
          ]
        }
      ]
    },
    {
      "cell_type": "markdown",
      "source": [
        "What was the error ?\n",
        "Answer : brackets around check even(4) , two == instead of ="
      ],
      "metadata": {
        "id": "o6oubHCztvi-"
      }
    }
  ]
}