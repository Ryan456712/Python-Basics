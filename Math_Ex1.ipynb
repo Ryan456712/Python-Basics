{
  "nbformat": 4,
  "nbformat_minor": 0,
  "metadata": {
    "colab": {
      "provenance": [],
      "include_colab_link": true
    },
    "kernelspec": {
      "name": "python3",
      "display_name": "Python 3"
    },
    "language_info": {
      "name": "python"
    }
  },
  "cells": [
    {
      "cell_type": "markdown",
      "metadata": {
        "id": "view-in-github",
        "colab_type": "text"
      },
      "source": [
        "<a href=\"https://colab.research.google.com/github/Ryan456712/Python-Basics/blob/main/Math_Ex1.ipynb\" target=\"_parent\"><img src=\"https://colab.research.google.com/assets/colab-badge.svg\" alt=\"Open In Colab\"/></a>"
      ]
    },
    {
      "cell_type": "markdown",
      "source": [
        "# MATH PYTHON EXERCISE 1"
      ],
      "metadata": {
        "id": "DyT267uWSfzo"
      }
    },
    {
      "cell_type": "markdown",
      "source": [
        "1. Import math correctly"
      ],
      "metadata": {
        "id": "05uxMSoJSkZ4"
      }
    },
    {
      "cell_type": "code",
      "execution_count": null,
      "metadata": {
        "id": "mR-BCYnKScOn"
      },
      "outputs": [],
      "source": [
        "import math"
      ]
    },
    {
      "cell_type": "markdown",
      "source": [
        "2. Convert 90 degrees to radians and print it"
      ],
      "metadata": {
        "id": "GkvsHhJYS3V5"
      }
    },
    {
      "cell_type": "code",
      "source": [
        "angle = 90\n",
        "radians = math.radians(angle)\n",
        "print(radians)"
      ],
      "metadata": {
        "id": "VbxKmhXBS7fW",
        "outputId": "10962398-4095-47e8-aa82-46b3a698002c",
        "colab": {
          "base_uri": "https://localhost:8080/"
        }
      },
      "execution_count": null,
      "outputs": [
        {
          "output_type": "stream",
          "name": "stdout",
          "text": [
            "1.5707963267948966\n"
          ]
        }
      ]
    },
    {
      "cell_type": "markdown",
      "source": [
        "3. Calculate sin 70, cos 70, tan 70"
      ],
      "metadata": {
        "id": "E_K68TvTS73G"
      }
    },
    {
      "cell_type": "code",
      "source": [
        "angle = 70\n",
        "radians = math.radians(angle)\n",
        "print(radians)\n",
        "\n",
        "print(\"sin of 70 degrees:\", math.sin(radians))\n",
        "\n",
        "print(\"cos of 70 degrees:\", math.cos(radians))\n",
        "\n",
        "print(\"tan of 70 degrees:\", math.tan(radians))"
      ],
      "metadata": {
        "id": "RU02BKOlTC87",
        "outputId": "00642502-5f73-4cc1-f56d-7dd9a4799c63",
        "colab": {
          "base_uri": "https://localhost:8080/"
        }
      },
      "execution_count": null,
      "outputs": [
        {
          "output_type": "stream",
          "name": "stdout",
          "text": [
            "1.2217304763960306\n",
            "sin of 70 degrees: 0.9396926207859083\n",
            "cos of 70 degrees: 0.3420201433256688\n",
            "tan of 70 degrees: 2.7474774194546216\n"
          ]
        }
      ]
    },
    {
      "cell_type": "markdown",
      "source": [
        "4. Calculate sin inverse (0.9396926207859083) cos inverse (0.342020143325668) and tan inverse (2.747477419454621)"
      ],
      "metadata": {
        "id": "ZschTX83TD2T"
      }
    },
    {
      "cell_type": "code",
      "source": [
        "print(\"arcsin of degrees:\", (math.asin(0.9396926207859083)))\n",
        "print(\"arccos of degrees:\", (math.acos(0.3420201433256688)))\n",
        "print(\"arctan of degrees:\", (math.atan(2.7474774194546216)))\n",
        "\n",
        "print(\" tan to angle:\", (math.degrees(math.atan(2.7474774194546216))))\n",
        "print(\" cos to angle:\", (math.degrees(math.acos(0.3420201433256688))))\n",
        "print(\" sin to angle:\", (math.degrees(math.asin(0.9396926207859083))))"
      ],
      "metadata": {
        "id": "fNm4gUBGTLb5",
        "outputId": "dc59e4c5-a4db-4a5b-e8c1-e814ed7969c7",
        "colab": {
          "base_uri": "https://localhost:8080/"
        }
      },
      "execution_count": 15,
      "outputs": [
        {
          "output_type": "stream",
          "name": "stdout",
          "text": [
            "arcsin of degrees: 1.2217304763960306\n",
            "arccos of degrees: 1.2217304763960306\n",
            "arctan of degrees: 1.2217304763960306\n",
            " degrees to angle: 70.0\n",
            " degrees to angle: 70.0\n",
            " degrees to angle: 70.0\n"
          ]
        }
      ]
    },
    {
      "cell_type": "markdown",
      "source": [
        "5. Calculat the area of a circle with radius 7"
      ],
      "metadata": {
        "id": "4GI_0CvFTLyq"
      }
    },
    {
      "cell_type": "code",
      "source": [
        "r = 7\n",
        "area = math.pi * (math.pow(r,2))\n",
        "print(area)"
      ],
      "metadata": {
        "id": "DJO4QSf3TQAI",
        "outputId": "8317fd39-0c7e-49a3-e1b6-e2c1ded8a233",
        "colab": {
          "base_uri": "https://localhost:8080/"
        }
      },
      "execution_count": null,
      "outputs": [
        {
          "output_type": "stream",
          "name": "stdout",
          "text": [
            "153.93804002589985\n"
          ]
        }
      ]
    },
    {
      "cell_type": "markdown",
      "source": [
        "6.Calculate the circumference of a circle with radius 7"
      ],
      "metadata": {
        "id": "hijI42uJTQQ6"
      }
    },
    {
      "cell_type": "code",
      "source": [
        " r = 7\n",
        "\n",
        "def calculate_circumference(radius):\n",
        "    circumference = (2 * math.pi * r)\n",
        "print(circumference)"
      ],
      "metadata": {
        "id": "bl2Aw54MTU9_",
        "outputId": "b0a11733-f7ad-4dd6-f595-53f4e8233b7b",
        "colab": {
          "base_uri": "https://localhost:8080/"
        }
      },
      "execution_count": null,
      "outputs": [
        {
          "output_type": "stream",
          "name": "stdout",
          "text": [
            "43.982297150257104\n"
          ]
        }
      ]
    },
    {
      "cell_type": "markdown",
      "source": [
        "7. Find the cube root of 343 using the math.pow() function"
      ],
      "metadata": {
        "id": "G1ceCYkGTVeb"
      }
    },
    {
      "cell_type": "code",
      "source": [
        "\n",
        "def cube_root(number):\n",
        "    return math.pow(number, 1/3)\n",
        "\n",
        "number = 343\n",
        "result = cube_root(number)\n",
        "print(f\"The cube root of {number} is {result}\")\n"
      ],
      "metadata": {
        "id": "PaOHKiQuTfub",
        "outputId": "7c308afb-12ea-411a-9d75-1f42d7ae75ba",
        "colab": {
          "base_uri": "https://localhost:8080/"
        }
      },
      "execution_count": null,
      "outputs": [
        {
          "output_type": "stream",
          "name": "stdout",
          "text": [
            "The cube root of 343 is 6.999999999999999\n"
          ]
        }
      ]
    },
    {
      "cell_type": "markdown",
      "source": [
        "8. Calculate the floor and ceil of 7.83."
      ],
      "metadata": {
        "id": "MnWyQq3_TgMk"
      }
    },
    {
      "cell_type": "code",
      "source": [
        "print(\"math.floor(7.83) : \", math.floor(7.83))\n",
        "print(\"math.ceil(7.83) : \", math.ceil(7.83))"
      ],
      "metadata": {
        "id": "_AAHRdk3Toea",
        "outputId": "b77deba6-b302-44c4-a695-22d1bd218ffb",
        "colab": {
          "base_uri": "https://localhost:8080/"
        }
      },
      "execution_count": null,
      "outputs": [
        {
          "output_type": "stream",
          "name": "stdout",
          "text": [
            "math.floor(7.83) :  7\n",
            "math.ceil(7.83) :  8\n"
          ]
        }
      ]
    },
    {
      "cell_type": "markdown",
      "source": [
        "9. Verify identity of (sin45)^2 + (cos45)^2 is approximately equal to 1"
      ],
      "metadata": {
        "id": "t3-Uyg91To7x"
      }
    },
    {
      "cell_type": "code",
      "source": [
        "angle = 45\n",
        "radians = math.radians(angle)\n",
        "print(radians)\n",
        "\n",
        "print(\"sin of 70 degrees:\", math.sin(radians))\n",
        "\n",
        "print(\"cos of 70 degrees:\", math.cos(radians))\n",
        "\n",
        "angle_rad = math.radians(45)\n",
        "\n",
        "math.sin(angle_rad)**2 + math.cos(angle_rad)**2"
      ],
      "metadata": {
        "id": "TTB2YibnUJU-",
        "outputId": "8a16b392-7ab4-4281-af62-162fc626e817",
        "colab": {
          "base_uri": "https://localhost:8080/"
        }
      },
      "execution_count": null,
      "outputs": [
        {
          "output_type": "stream",
          "name": "stdout",
          "text": [
            "0.7853981633974483\n",
            "sin of 70 degrees: 0.7071067811865475\n",
            "cos of 70 degrees: 0.7071067811865476\n"
          ]
        },
        {
          "output_type": "execute_result",
          "data": {
            "text/plain": [
              "1.0"
            ]
          },
          "metadata": {},
          "execution_count": 71
        }
      ]
    },
    {
      "cell_type": "markdown",
      "source": [
        "10. An object is dropped from a height of 78.4 meters.\n",
        "How long will it take to hit the ground?\n",
        "(Use the formula: t = √2h/g , g = 9.8"
      ],
      "metadata": {
        "id": "0_HbNRXlUJl8"
      }
    },
    {
      "cell_type": "code",
      "source": [
        "\n",
        "height = 78.4\n",
        "gravity = 9.8\n",
        "\n",
        "\n",
        "time = math.sqrt(2 * height)/gravity\n",
        "\n",
        "print(f\"The object will take {time:.2f} seconds to hit the ground.\")"
      ],
      "metadata": {
        "id": "zaVO6Fo1UjKl",
        "outputId": "72e93c02-1364-447a-c30f-88ab26380770",
        "colab": {
          "base_uri": "https://localhost:8080/"
        }
      },
      "execution_count": 5,
      "outputs": [
        {
          "output_type": "stream",
          "name": "stdout",
          "text": [
            "The object will take 1.28 seconds to hit the ground.\n"
          ]
        }
      ]
    },
    {
      "cell_type": "markdown",
      "source": [
        "11. Area of an Equilateral Triangle\n",
        "Given the side length of an equilateral triangle is 6 units, calculate its area.\n",
        "Use the formula: Area = √(3/4) * (side)^2"
      ],
      "metadata": {
        "id": "lFK6CYF_UjhE"
      }
    },
    {
      "cell_type": "code",
      "source": [
        "\n",
        "side = 6\n",
        "\n",
        "area = math.sqrt(3 / 4) * (side)** 2\n",
        "\n",
        "print(f\"The area of the equilateral triangle is: {area} square units\")"
      ],
      "metadata": {
        "id": "GSQuQ7UBUvuL",
        "outputId": "573e278c-ba6c-490b-a540-be10436b4737",
        "colab": {
          "base_uri": "https://localhost:8080/"
        }
      },
      "execution_count": 13,
      "outputs": [
        {
          "output_type": "stream",
          "name": "stdout",
          "text": [
            "The area of the equilateral triangle is: 31.17691453623979 square units\n"
          ]
        }
      ]
    }
  ]
}