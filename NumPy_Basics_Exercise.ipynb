{
  "nbformat": 4,
  "nbformat_minor": 0,
  "metadata": {
    "colab": {
      "provenance": [],
      "include_colab_link": true
    },
    "kernelspec": {
      "name": "python3",
      "display_name": "Python 3"
    },
    "language_info": {
      "name": "python"
    }
  },
  "cells": [
    {
      "cell_type": "markdown",
      "metadata": {
        "id": "view-in-github",
        "colab_type": "text"
      },
      "source": [
        "<a href=\"https://colab.research.google.com/github/Ryan456712/Python-Basics/blob/main/NumPy_Basics_Exercise.ipynb\" target=\"_parent\"><img src=\"https://colab.research.google.com/assets/colab-badge.svg\" alt=\"Open In Colab\"/></a>"
      ]
    },
    {
      "cell_type": "markdown",
      "metadata": {
        "id": "VE2cHlzIuLVT"
      },
      "source": [
        "# 🧮 NumPy Basics - Practice Exercises\n",
        "\n",
        "**Instructions:** Read each task carefully and complete the code blocks using NumPy.\n",
        "Remember to start with:\n",
        "```python\n",
        "import numpy as np\n",
        "```"
      ]
    },
    {
      "cell_type": "markdown",
      "metadata": {
        "id": "8zEt8XiyuLVU"
      },
      "source": [
        "## 🛍️ Task 1: Store Footfall Tracker\n",
        "Create a NumPy array of customer counts over 7 days:\n",
        "`[95, 102, 110, 130, 125, 140, 150]`\n",
        "- Find the average number of customers per day.\n",
        "- Find the highest and lowest footfall."
      ]
    },
    {
      "cell_type": "code",
      "metadata": {
        "id": "SoroU7tnuLVV",
        "outputId": "266dd1a1-e219-4f57-a990-1b997e4adce9",
        "colab": {
          "base_uri": "https://localhost:8080/"
        }
      },
      "source": [
        "# Your code here\n",
        "import numpy as np\n",
        "\n",
        "customers = np.array([95,102,110,130,125,140,150])\n",
        "\n",
        "average_customers = np.mean(customers)\n",
        "\n",
        "print(\"The average number of customers is:\", average_customers)\n",
        "\n",
        "lowest = np.min(customers)\n",
        "\n",
        "highest = np.max(customers)\n",
        "\n",
        "print(f\"The lowest footfall in the array is: {lowest}\")\n",
        "print(f\"The highest footfall in the array is: {highest}\")"
      ],
      "execution_count": 3,
      "outputs": [
        {
          "output_type": "stream",
          "name": "stdout",
          "text": [
            "The average number of customers is: 121.71428571428571\n",
            "The lowest footfall in the array is: 95\n",
            "The highest footfall in the array is: 150\n"
          ]
        }
      ]
    },
    {
      "cell_type": "markdown",
      "metadata": {
        "id": "xat9F7uhuLVV"
      },
      "source": [
        "## 📦 Task 2: Inventory Restock Check\n",
        "You have items in stock: `[15, 40, 10, 5, 25]`\n",
        "(sugar, rice, salt, oil, wheat)\n",
        "- Find which items have less than 20 units.\n",
        "- Print how many total items need restocking."
      ]
    },
    {
      "cell_type": "code",
      "metadata": {
        "id": "cfsa1H5GuLVW",
        "outputId": "a75306b8-06c2-4193-fbfa-96f33c1e3ce2",
        "colab": {
          "base_uri": "https://localhost:8080/"
        }
      },
      "source": [
        "import numpy as np\n",
        "\n",
        "stock = np.array([15,40,10,5,25])\n",
        "\n",
        "remaining = stock\n",
        "\n",
        "print(\"remaining stock =\", remaining)\n",
        "\n",
        "print(\"items needing restock =\", remaining<20)\n",
        "\n",
        "print(\"items that are sufficient =\", remaining>20)"
      ],
      "execution_count": 25,
      "outputs": [
        {
          "output_type": "stream",
          "name": "stdout",
          "text": [
            "remaining stock = [15 40 10  5 25]\n",
            "items needing restock = [ True False  True  True False]\n",
            "items that are sufficient = [False  True False False  True]\n"
          ]
        }
      ]
    },
    {
      "cell_type": "markdown",
      "metadata": {
        "id": "P05EFRS3uLVW"
      },
      "source": [
        "## 📊 Task 3: Weekly Sales Growth\n",
        "This week’s sales (₹): `[1200, 1350, 1600, 1500, 1450, 1550, 1700]`\n",
        "Last week’s sales: `[1000, 1250, 1400, 1300, 1250, 1450, 1600]`\n",
        "- Calculate the daily growth in sales.\n",
        "- Find the average growth.\n",
        "- Print on which days the sales decreased."
      ]
    },
    {
      "cell_type": "code",
      "metadata": {
        "id": "cbUUvVNAuLVW",
        "outputId": "55594b9a-9a30-40c1-8c4f-55e621fe0f86",
        "colab": {
          "base_uri": "https://localhost:8080/"
        }
      },
      "source": [
        "import numpy as np\n",
        "\n",
        "this_week = np.array([1200, 1350, 1600, 1500, 1450, 1550, 1700])\n",
        "last_week = np.array([1000, 1250, 1400, 1300, 1250, 1450, 1600])\n",
        "\n",
        "daily_growth = this_week - last_week\n",
        "\n",
        "average_growth = np.mean(daily_growth)\n",
        "\n",
        "days_sales_decreased = np.where(daily_growth < 0)[0] + 1\n",
        "\n",
        "print(\"Daily Growth in Sales (₹):\", daily_growth)\n",
        "print(\"Average Growth in Sales (₹):\", average_growth)\n",
        "print(\"Days with Decrease in Sales:\", days_sales_decreased)"
      ],
      "execution_count": 54,
      "outputs": [
        {
          "output_type": "stream",
          "name": "stdout",
          "text": [
            "Daily Growth in Sales (₹): [200 100 200 200 200 100 100]\n",
            "Average Growth in Sales (₹): 157.14285714285714\n",
            "Days with Decrease in Sales: []\n"
          ]
        }
      ]
    },
    {
      "cell_type": "markdown",
      "metadata": {
        "id": "WNgW4CozuLVW"
      },
      "source": [
        "## 💸 Task 4: Discounted Prices\n",
        "Prices before discount: `[120, 250, 75, 300, 180]`\n",
        "Apply a 10% discount and print the final prices."
      ]
    },
    {
      "cell_type": "code",
      "metadata": {
        "id": "dpDcBztBuLVW",
        "outputId": "aec68beb-22f6-4f0f-df4f-0fe0b4cabb69",
        "colab": {
          "base_uri": "https://localhost:8080/"
        }
      },
      "source": [
        "import numpy as np\n",
        "\n",
        "prices = np.array([120, 250, 75, 300, 180])\n",
        "\n",
        "discounted_prices = prices * 0.9\n",
        "\n",
        "print(\"Final Prices after 10% Discount:\", discounted_prices)"
      ],
      "execution_count": 33,
      "outputs": [
        {
          "output_type": "stream",
          "name": "stdout",
          "text": [
            "Final Prices after 10% Discount: [108.  225.   67.5 270.  162. ]\n"
          ]
        }
      ]
    },
    {
      "cell_type": "markdown",
      "metadata": {
        "id": "GZCpDsNjuLVW"
      },
      "source": [
        "## 🧼 Task 5: Hygiene Product Sales\n",
        "Units sold: `[30, 50, 45, 10, 60]`\n",
        "- Find total items sold.\n",
        "- What percentage of total sales came from the item that sold 60 units?"
      ]
    },
    {
      "cell_type": "code",
      "metadata": {
        "id": "k4qrHIRLuLVX",
        "outputId": "b5dd2079-4c5c-4184-9669-8ed6f240442f",
        "colab": {
          "base_uri": "https://localhost:8080/"
        }
      },
      "source": [
        "import numpy as np\n",
        "\n",
        "units_sold = np.array([30, 50, 45, 10, 60])\n",
        "\n",
        "total_units = np.sum(units_sold)\n",
        "\n",
        "percentage_contribution = (60 / total_units) * 100\n",
        "\n",
        "print(\"Total Items Sold:\", total_units)\n",
        "print(\"Percentage Contribution of 60-Unit Item (%):\", percentage_contribution)"
      ],
      "execution_count": 29,
      "outputs": [
        {
          "output_type": "stream",
          "name": "stdout",
          "text": [
            "Total Items Sold: 195\n",
            "Percentage Contribution of 60-Unit Item (%): 30.76923076923077\n"
          ]
        }
      ]
    },
    {
      "cell_type": "markdown",
      "metadata": {
        "id": "u8CHFoqOuLVX"
      },
      "source": [
        "## 🌡️ Bonus Task: Temperature Conversion\n",
        "Temperatures in Celsius: `[25, 30, 28, 27, 32]`\n",
        "- Convert them to Fahrenheit using:\n",
        "  \n",
        "  \\( F = C \\times \\frac{9}{5} + 32 \\)"
      ]
    },
    {
      "cell_type": "code",
      "metadata": {
        "id": "pGoAXvaTuLVX",
        "outputId": "a0d97361-325a-4a9b-a0cc-979aef479e55",
        "colab": {
          "base_uri": "https://localhost:8080/"
        }
      },
      "source": [
        "import numpy as np\n",
        "\n",
        "celsius_temperatures = np.array([25, 30, 28, 27, 32])\n",
        "\n",
        "fahrenheit_temperatures = celsius_temperatures * (9/5) + 32\n",
        "\n",
        "print(\"Temperatures in Fahrenheit:\", fahrenheit_temperatures)"
      ],
      "execution_count": 40,
      "outputs": [
        {
          "output_type": "stream",
          "name": "stdout",
          "text": [
            "Temperatures in Fahrenheit: [77.  86.  82.4 80.6 89.6]\n"
          ]
        }
      ]
    }
  ]
}