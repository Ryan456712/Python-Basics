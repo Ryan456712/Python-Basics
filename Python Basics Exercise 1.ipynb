{
  "nbformat": 4,
  "nbformat_minor": 0,
  "metadata": {
    "colab": {
      "provenance": [],
      "include_colab_link": true
    },
    "kernelspec": {
      "name": "python3",
      "display_name": "Python 3"
    },
    "language_info": {
      "name": "python"
    }
  },
  "cells": [
    {
      "cell_type": "markdown",
      "metadata": {
        "id": "view-in-github",
        "colab_type": "text"
      },
      "source": [
        "<a href=\"https://colab.research.google.com/github/Ryan456712/Python-Basics/blob/main/Copy_of_python_ex1.ipynb\" target=\"_parent\"><img src=\"https://colab.research.google.com/assets/colab-badge.svg\" alt=\"Open In Colab\"/></a>"
      ]
    },
    {
      "cell_type": "markdown",
      "source": [
        "### **Python Basics Exercise 1**"
      ],
      "metadata": {
        "id": "WavzXiU6pqYs"
      }
    },
    {
      "cell_type": "markdown",
      "source": [
        "\n",
        "## Exercise 1: Printing\n",
        "### Task:\n",
        "Print the following message: \"Hello, Python!\""
      ],
      "metadata": {
        "id": "1K092Tujp0S-"
      }
    },
    {
      "cell_type": "code",
      "source": [
        "print(\"hello, Python\")"
      ],
      "metadata": {
        "colab": {
          "base_uri": "https://localhost:8080/"
        },
        "id": "drvra7Tsrhw-",
        "outputId": "2626d7cb-1ed0-4681-c007-1b276be6fa8a"
      },
      "execution_count": null,
      "outputs": [
        {
          "output_type": "stream",
          "name": "stdout",
          "text": [
            "Hello, Python!\n"
          ]
        }
      ]
    },
    {
      "cell_type": "markdown",
      "source": [
        "## Exercise 2: Variables and Data Types\n",
        "### Task:\n",
        "Create a variable `name` and assign it your name as a string. Then, print it."
      ],
      "metadata": {
        "id": "-An4H9_atBHP"
      }
    },
    {
      "cell_type": "code",
      "source": [
        "Name = \"Ryan\"\n",
        "Print(Name)"
      ],
      "metadata": {
        "colab": {
          "base_uri": "https://localhost:8080/"
        },
        "id": "tr9X_rzytCzv",
        "outputId": "a5966a72-e81e-4c49-f942-786ad8f1ddf0"
      },
      "execution_count": null,
      "outputs": [
        {
          "output_type": "stream",
          "name": "stdout",
          "text": [
            "Your Name\n"
          ]
        }
      ]
    },
    {
      "cell_type": "markdown",
      "source": [
        "## Exercise 3: User Input\n",
        "### Task:\n",
        "Ask the user to enter their favorite color and store it in a variable. Then, print \"Your favorite color is ___\""
      ],
      "metadata": {
        "id": "CLzw6wNQtQhm"
      }
    },
    {
      "cell_type": "code",
      "source": [
        "colour = input(\"Enter your favorite color: \")\n",
        "print(\"Your favorite color is\", colour)"
      ],
      "metadata": {
        "colab": {
          "base_uri": "https://localhost:8080/"
        },
        "id": "B-T9UA-etV6_",
        "outputId": "e057b0b6-75a7-4269-cb00-e0067aefc2b2"
      },
      "execution_count": null,
      "outputs": [
        {
          "output_type": "stream",
          "name": "stdout",
          "text": [
            "Enter your favorite color: red\n",
            "Your favorite color is red\n"
          ]
        }
      ]
    },
    {
      "cell_type": "markdown",
      "source": [
        "## Exercise 4: Simple Conditionals\n",
        "### Task:\n",
        "Write a program that asks the user for their age. If they are 18 or older, print \"You are an adult\". Otherwise, print \"You are a minor\"."
      ],
      "metadata": {
        "id": "96LdlrHStuBw"
      }
    },
    {
      "cell_type": "code",
      "source": [
        "age =  int(input(\"enter your age: \"))\n",
        "if age >= 18:\n",
        "  print(\"you are an adult\")\n",
        "else:\n",
        "  print(\"you are a minior\")"
      ],
      "metadata": {
        "colab": {
          "base_uri": "https://localhost:8080/"
        },
        "id": "hbaWtMfqtvZb",
        "outputId": "6b9e5524-2fe9-487c-d626-708e1781cb15"
      },
      "execution_count": null,
      "outputs": [
        {
          "output_type": "stream",
          "name": "stdout",
          "text": [
            "enter your age: 6\n",
            "you are a minior\n"
          ]
        }
      ]
    },
    {
      "cell_type": "markdown",
      "source": [
        "## Exercise 5: Even or Odd\n",
        "### Task:\n",
        "Ask the user to enter a number. Check if the number is even or odd and print the result."
      ],
      "metadata": {
        "id": "YcSYS6jTtz4-"
      }
    },
    {
      "cell_type": "code",
      "source": [
        "number = int(input(\"Enter a number: \"))\n",
        "if number%2==0:\n",
        "  print(\"number is even\")\n",
        "else:\n",
        "  print(\"number is odd\")\n"
      ],
      "metadata": {
        "id": "NyFdva-jt38F"
      },
      "execution_count": null,
      "outputs": []
    },
    {
      "cell_type": "markdown",
      "source": [
        "## Exercise 6: For Loop\n",
        "### Task:\n",
        "Write a for loop that prints the numbers from 1 to 5."
      ],
      "metadata": {
        "id": "M9_wpBLmuBN7"
      }
    },
    {
      "cell_type": "code",
      "source": [
        "for i in range(1,6):\n",
        "    print(i)"
      ],
      "metadata": {
        "colab": {
          "base_uri": "https://localhost:8080/"
        },
        "id": "58YhJqvduGzf",
        "outputId": "84f047eb-eb19-4486-ab68-c32c3e18ba2e"
      },
      "execution_count": null,
      "outputs": [
        {
          "output_type": "stream",
          "name": "stdout",
          "text": [
            "1\n",
            "2\n",
            "3\n",
            "4\n",
            "5\n"
          ]
        }
      ]
    },
    {
      "cell_type": "markdown",
      "source": [
        "## Exercise 7: While Loop\n",
        "### Task:\n",
        "Write a while loop that prints numbers from 1 to 5."
      ],
      "metadata": {
        "id": "Tvvw7QLnuLVz"
      }
    },
    {
      "cell_type": "code",
      "source": [
        "i = 1\n",
        "while i <= 5:\n",
        "    print(i)\n",
        "    i += 1\n",
        "else:\n",
        "    print(\"Loop has ended\")"
      ],
      "metadata": {
        "colab": {
          "base_uri": "https://localhost:8080/"
        },
        "id": "fLaorZLFuOlv",
        "outputId": "e7ecad98-e2e5-4b04-cd96-60e4cc3726cd"
      },
      "execution_count": null,
      "outputs": [
        {
          "output_type": "stream",
          "name": "stdout",
          "text": [
            "1\n",
            "2\n",
            "3\n",
            "4\n",
            "5\n",
            "Loop has ended\n"
          ]
        }
      ]
    },
    {
      "cell_type": "markdown",
      "source": [
        "## Exercise 8: Sum of Numbers\n",
        "### Task:\n",
        "Write a loop that calculates and prints the sum of numbers from 1 to 10."
      ],
      "metadata": {
        "id": "AUcAuhZZuTQT"
      }
    },
    {
      "cell_type": "code",
      "source": [
        "sum = 0\n",
        "for i in range(1,11):\n",
        "    sum += i\n",
        "print(sum)\n"
      ],
      "metadata": {
        "colab": {
          "base_uri": "https://localhost:8080/"
        },
        "id": "ev3EHm1duW62",
        "outputId": "a9dcf81b-e8dc-4e7c-ac97-08decdce23c8"
      },
      "execution_count": null,
      "outputs": [
        {
          "output_type": "stream",
          "name": "stdout",
          "text": [
            "55\n"
          ]
        }
      ]
    },
    {
      "cell_type": "markdown",
      "source": [
        "## Exercise 9: FizzBuzz\n",
        "### Task:\n",
        "Write a program that prints numbers from 1 to 20.\n",
        "- If a number is divisible by 3, print \"Fizz\" instead.\n",
        "- If a number is divisible by 5, print \"Buzz\" instead.\n",
        "- If a number is divisible by both 3 and 5, print \"FizzBuzz\"."
      ],
      "metadata": {
        "id": "GDSmiDsIucex"
      }
    },
    {
      "cell_type": "code",
      "source": [
        "for i in range(1,21):\n",
        "    if i % 3 == 0 and i % 5 == 0:\n",
        "        print(\"FizzBuzz\")\n",
        "    elif i % 3 == 0:\n",
        "        print(\"Fizz\")\n",
        "    elif i % 5 == 0:\n",
        "        print(\"Buzz\")\n",
        "    else:\n",
        "        print(i)"
      ],
      "metadata": {
        "id": "n1dKRLrgudjv",
        "outputId": "e70b339b-010a-421b-faa0-a41e3b21d761",
        "colab": {
          "base_uri": "https://localhost:8080/"
        }
      },
      "execution_count": null,
      "outputs": [
        {
          "output_type": "stream",
          "name": "stdout",
          "text": [
            "1\n",
            "2\n",
            "Fizz\n",
            "4\n",
            "Buzz\n",
            "Fizz\n",
            "7\n",
            "8\n",
            "Fizz\n",
            "Buzz\n",
            "11\n",
            "Fizz\n",
            "13\n",
            "14\n",
            "FizzBuzz\n",
            "16\n",
            "17\n",
            "Fizz\n",
            "19\n",
            "Buzz\n"
          ]
        }
      ]
    },
    {
      "cell_type": "code",
      "source": [],
      "metadata": {
        "id": "F1gVhMfexrlN"
      },
      "execution_count": null,
      "outputs": []
    }
  ]
}
