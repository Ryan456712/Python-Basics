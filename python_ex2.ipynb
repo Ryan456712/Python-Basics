{
  "nbformat": 4,
  "nbformat_minor": 0,
  "metadata": {
    "colab": {
      "provenance": [],
      "include_colab_link": true
    },
    "kernelspec": {
      "name": "python3",
      "display_name": "Python 3"
    },
    "language_info": {
      "name": "python"
    }
  },
  "cells": [
    {
      "cell_type": "markdown",
      "metadata": {
        "id": "view-in-github",
        "colab_type": "text"
      },
      "source": [
        "<a href=\"https://colab.research.google.com/github/Ryan456712/Python-Basics/blob/main/python_ex2.ipynb\" target=\"_parent\"><img src=\"https://colab.research.google.com/assets/colab-badge.svg\" alt=\"Open In Colab\"/></a>"
      ]
    },
    {
      "cell_type": "markdown",
      "source": [
        "# Python Exercises 2"
      ],
      "metadata": {
        "id": "reaLcOQzvWym"
      }
    },
    {
      "cell_type": "markdown",
      "source": [
        "## Exercise 1: Defining Functions\n",
        "### Task:\n",
        "Write a function called `greet` that takes a name as a parameter and returns \"Hello, Yourname!\"."
      ],
      "metadata": {
        "id": "Yeg9DKvyva6l"
      }
    },
    {
      "cell_type": "code",
      "source": [
        "def greet(name):\n",
        "    return \"Hello, \" + name + \"!\"\n",
        "\n",
        "print(greet(\"Ryan\"))"
      ],
      "metadata": {
        "colab": {
          "base_uri": "https://localhost:8080/"
        },
        "id": "qdQwJNo8velp",
        "outputId": "64130730-0348-40cc-e722-a3c672e21466"
      },
      "execution_count": 9,
      "outputs": [
        {
          "output_type": "stream",
          "name": "stdout",
          "text": [
            "Hello, Ryan!\n"
          ]
        }
      ]
    },
    {
      "cell_type": "markdown",
      "source": [
        "## Exercise 2: Function with Default Parameter\n",
        "### Task:\n",
        "Write a function `power` that takes two arguments: a base and an exponent (default to 2). It should return the base raised to the exponent."
      ],
      "metadata": {
        "id": "4nlbtlaIv0qt"
      }
    },
    {
      "cell_type": "code",
      "source": [
        "def power(base, exponent=2):\n",
        "    return base ** exponent\n",
        "\n",
        "result = power(3)\n",
        "print(result)\n",
        "\n",
        "result = power(2, 3)\n",
        "print(result)\n"
      ],
      "metadata": {
        "colab": {
          "base_uri": "https://localhost:8080/"
        },
        "id": "b3RviQzDv46C",
        "outputId": "8ed18cf9-a56b-4a20-c5c2-1249502aaee6",
        "collapsed": true
      },
      "execution_count": 30,
      "outputs": [
        {
          "output_type": "stream",
          "name": "stdout",
          "text": [
            "9\n",
            "8\n"
          ]
        }
      ]
    },
    {
      "cell_type": "markdown",
      "source": [
        "## Exercise 3: List Operations\n",
        "### Task:\n",
        "Create a list of five numbers. Write a loop to print each number in the list."
      ],
      "metadata": {
        "id": "yyXAjKNnwh1p"
      }
    },
    {
      "cell_type": "code",
      "source": [
        "for i in range(1,6):\n",
        "    print(i)"
      ],
      "metadata": {
        "colab": {
          "base_uri": "https://localhost:8080/"
        },
        "id": "swwS3Y4Dwiol",
        "outputId": "b8583dce-a2d9-45dd-84f8-3eab8c24e60d"
      },
      "execution_count": 11,
      "outputs": [
        {
          "output_type": "stream",
          "name": "stdout",
          "text": [
            "1\n",
            "2\n",
            "3\n",
            "4\n",
            "5\n"
          ]
        }
      ]
    },
    {
      "cell_type": "markdown",
      "source": [
        "\n",
        "## Exercise 4: List Modification\n",
        "### Task:\n",
        "Write a function that takes a list and returns a new list with each element squared."
      ],
      "metadata": {
        "id": "kwrHQtDwwmfZ"
      }
    },
    {
      "cell_type": "code",
      "source": [
        "def square_list(list):\n",
        "    new_list = []\n",
        "    for i in list:\n",
        "        new_list.append(i * i)\n",
        "    return new_list\n",
        "\n",
        "print(square_list([1,2,3,4,5,6,7,8,9,10]))\n",
        "print(square_list([12,34,56,78,90]))\n",
        "print(square_list([1,3,5,7,9]))"
      ],
      "metadata": {
        "colab": {
          "base_uri": "https://localhost:8080/"
        },
        "id": "q8IvqtaFwoeT",
        "outputId": "150ab8cb-684d-4977-a7b3-1ce30eeda2b8"
      },
      "execution_count": 29,
      "outputs": [
        {
          "output_type": "stream",
          "name": "stdout",
          "text": [
            "[1, 4, 9, 16, 25, 36, 49, 64, 81, 100]\n",
            "[144, 1156, 3136, 6084, 8100]\n",
            "[1, 9, 25, 49, 81]\n"
          ]
        }
      ]
    },
    {
      "cell_type": "markdown",
      "source": [
        "## Exercise 5: Looping through a Dictionary\n",
        "### Task:\n",
        "Create a dictionary with three key-value pairs representing a student's name, age, and grade. Write a loop to print each key and its corresponding value."
      ],
      "metadata": {
        "id": "DnNNIiQ2w6Jk"
      }
    },
    {
      "cell_type": "code",
      "source": [
        "student = {\"name\":\"Jhon\", \"age\": 25, \"grade\": 12}\n",
        "for key in student:\n",
        "    print(key, student[key])"
      ],
      "metadata": {
        "colab": {
          "base_uri": "https://localhost:8080/"
        },
        "id": "jsEVuyrLw_QV",
        "outputId": "a712b8c0-09e8-48ca-f181-519091c9b5fd"
      },
      "execution_count": 26,
      "outputs": [
        {
          "output_type": "stream",
          "name": "stdout",
          "text": [
            "name Jhon\n",
            "age 25\n",
            "grade 12\n"
          ]
        }
      ]
    },
    {
      "cell_type": "markdown",
      "source": [
        "## Exercise 6: Nested Loops\n",
        "### Task:\n",
        "Write a function that generates a multiplication table for numbers 1 through 5 using nested loops."
      ],
      "metadata": {
        "id": "t6d8Xd-exHIn"
      }
    },
    {
      "cell_type": "code",
      "source": [
        "def multiplication_table():\n",
        "    for i in range(1,6):\n",
        "        for j in range(1,11):\n",
        "            print(i, \"x\", j, \"=\", i*j)\n",
        "        print(\"\\n\")\n",
        "\n",
        "multiplication_table()"
      ],
      "metadata": {
        "colab": {
          "base_uri": "https://localhost:8080/"
        },
        "id": "ZSWqaprpxQHx",
        "outputId": "2685e1d1-ed70-4731-9adc-2c7ce88de81e"
      },
      "execution_count": 34,
      "outputs": [
        {
          "output_type": "stream",
          "name": "stdout",
          "text": [
            "1 x 1 = 1\n",
            "1 x 2 = 2\n",
            "1 x 3 = 3\n",
            "1 x 4 = 4\n",
            "1 x 5 = 5\n",
            "1 x 6 = 6\n",
            "1 x 7 = 7\n",
            "1 x 8 = 8\n",
            "1 x 9 = 9\n",
            "1 x 10 = 10\n",
            "\n",
            "\n",
            "2 x 1 = 2\n",
            "2 x 2 = 4\n",
            "2 x 3 = 6\n",
            "2 x 4 = 8\n",
            "2 x 5 = 10\n",
            "2 x 6 = 12\n",
            "2 x 7 = 14\n",
            "2 x 8 = 16\n",
            "2 x 9 = 18\n",
            "2 x 10 = 20\n",
            "\n",
            "\n",
            "3 x 1 = 3\n",
            "3 x 2 = 6\n",
            "3 x 3 = 9\n",
            "3 x 4 = 12\n",
            "3 x 5 = 15\n",
            "3 x 6 = 18\n",
            "3 x 7 = 21\n",
            "3 x 8 = 24\n",
            "3 x 9 = 27\n",
            "3 x 10 = 30\n",
            "\n",
            "\n",
            "4 x 1 = 4\n",
            "4 x 2 = 8\n",
            "4 x 3 = 12\n",
            "4 x 4 = 16\n",
            "4 x 5 = 20\n",
            "4 x 6 = 24\n",
            "4 x 7 = 28\n",
            "4 x 8 = 32\n",
            "4 x 9 = 36\n",
            "4 x 10 = 40\n",
            "\n",
            "\n",
            "5 x 1 = 5\n",
            "5 x 2 = 10\n",
            "5 x 3 = 15\n",
            "5 x 4 = 20\n",
            "5 x 5 = 25\n",
            "5 x 6 = 30\n",
            "5 x 7 = 35\n",
            "5 x 8 = 40\n",
            "5 x 9 = 45\n",
            "5 x 10 = 50\n",
            "\n",
            "\n"
          ]
        }
      ]
    },
    {
      "cell_type": "markdown",
      "source": [
        "## Exercise 7: Filtering a List\n",
        "### Task:\n",
        "Write a function that takes a list of numbers and returns a new list containing only even numbers."
      ],
      "metadata": {
        "id": "3Le93BTpxTK0"
      }
    },
    {
      "cell_type": "code",
      "source": [
        "a = [1, 2, 3, 4, 5]\n",
        "\n",
        "res = [num for num in a if num % 2 == 0]\n",
        "print(res)"
      ],
      "metadata": {
        "colab": {
          "base_uri": "https://localhost:8080/"
        },
        "id": "BhzyOd_CxW-A",
        "outputId": "7605815a-94fd-4f71-86d6-7bb81c122306"
      },
      "execution_count": 35,
      "outputs": [
        {
          "output_type": "stream",
          "name": "stdout",
          "text": [
            "[2, 4]\n"
          ]
        }
      ]
    }
  ]
}